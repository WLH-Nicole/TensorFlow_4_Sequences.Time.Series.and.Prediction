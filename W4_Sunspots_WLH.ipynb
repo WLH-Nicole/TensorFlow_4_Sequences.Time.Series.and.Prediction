{
 "cells": [
  {
   "cell_type": "code",
   "execution_count": 1,
   "metadata": {
    "colab": {
     "base_uri": "https://localhost:8080/",
     "height": 564
    },
    "colab_type": "code",
    "id": "GNkzTFfynsmV",
    "outputId": "b5af6a6e-49d5-4a62-cfd4-5f571dd414d4"
   },
   "outputs": [
    {
     "name": "stdout",
     "output_type": "stream",
     "text": [
      "Collecting tensorflow==2.0.0b1\n",
      "\u001b[?25l  Downloading https://files.pythonhosted.org/packages/29/6c/2c9a5c4d095c63c2fb37d20def0e4f92685f7aee9243d6aae25862694fd1/tensorflow-2.0.0b1-cp36-cp36m-manylinux1_x86_64.whl (87.9MB)\n",
      "\u001b[K     |████████████████████████████████| 87.9MB 1.2MB/s \n",
      "\u001b[?25hRequirement already satisfied: keras-applications>=1.0.6 in /usr/local/lib/python3.6/dist-packages (from tensorflow==2.0.0b1) (1.0.8)\n",
      "Requirement already satisfied: six>=1.10.0 in /usr/local/lib/python3.6/dist-packages (from tensorflow==2.0.0b1) (1.12.0)\n",
      "Requirement already satisfied: astor>=0.6.0 in /usr/local/lib/python3.6/dist-packages (from tensorflow==2.0.0b1) (0.8.0)\n",
      "Requirement already satisfied: gast>=0.2.0 in /usr/local/lib/python3.6/dist-packages (from tensorflow==2.0.0b1) (0.2.2)\n",
      "Requirement already satisfied: wrapt>=1.11.1 in /usr/local/lib/python3.6/dist-packages (from tensorflow==2.0.0b1) (1.11.2)\n",
      "Requirement already satisfied: google-pasta>=0.1.6 in /usr/local/lib/python3.6/dist-packages (from tensorflow==2.0.0b1) (0.1.7)\n",
      "Collecting tb-nightly<1.14.0a20190604,>=1.14.0a20190603 (from tensorflow==2.0.0b1)\n",
      "\u001b[?25l  Downloading https://files.pythonhosted.org/packages/a4/96/571b875cd81dda9d5dfa1422a4f9d749e67c0a8d4f4f0b33a4e5f5f35e27/tb_nightly-1.14.0a20190603-py3-none-any.whl (3.1MB)\n",
      "\u001b[K     |████████████████████████████████| 3.1MB 49.8MB/s \n",
      "\u001b[?25hRequirement already satisfied: absl-py>=0.7.0 in /usr/local/lib/python3.6/dist-packages (from tensorflow==2.0.0b1) (0.7.1)\n",
      "Collecting tf-estimator-nightly<1.14.0.dev2019060502,>=1.14.0.dev2019060501 (from tensorflow==2.0.0b1)\n",
      "\u001b[?25l  Downloading https://files.pythonhosted.org/packages/32/dd/99c47dd007dcf10d63fd895611b063732646f23059c618a373e85019eb0e/tf_estimator_nightly-1.14.0.dev2019060501-py2.py3-none-any.whl (496kB)\n",
      "\u001b[K     |████████████████████████████████| 501kB 47.4MB/s \n",
      "\u001b[?25hRequirement already satisfied: numpy<2.0,>=1.14.5 in /usr/local/lib/python3.6/dist-packages (from tensorflow==2.0.0b1) (1.16.4)\n",
      "Requirement already satisfied: termcolor>=1.1.0 in /usr/local/lib/python3.6/dist-packages (from tensorflow==2.0.0b1) (1.1.0)\n",
      "Requirement already satisfied: grpcio>=1.8.6 in /usr/local/lib/python3.6/dist-packages (from tensorflow==2.0.0b1) (1.15.0)\n",
      "Requirement already satisfied: wheel>=0.26 in /usr/local/lib/python3.6/dist-packages (from tensorflow==2.0.0b1) (0.33.4)\n",
      "Requirement already satisfied: protobuf>=3.6.1 in /usr/local/lib/python3.6/dist-packages (from tensorflow==2.0.0b1) (3.7.1)\n",
      "Requirement already satisfied: keras-preprocessing>=1.0.5 in /usr/local/lib/python3.6/dist-packages (from tensorflow==2.0.0b1) (1.1.0)\n",
      "Requirement already satisfied: h5py in /usr/local/lib/python3.6/dist-packages (from keras-applications>=1.0.6->tensorflow==2.0.0b1) (2.8.0)\n",
      "Requirement already satisfied: setuptools>=41.0.0 in /usr/local/lib/python3.6/dist-packages (from tb-nightly<1.14.0a20190604,>=1.14.0a20190603->tensorflow==2.0.0b1) (41.2.0)\n",
      "Requirement already satisfied: werkzeug>=0.11.15 in /usr/local/lib/python3.6/dist-packages (from tb-nightly<1.14.0a20190604,>=1.14.0a20190603->tensorflow==2.0.0b1) (0.15.5)\n",
      "Requirement already satisfied: markdown>=2.6.8 in /usr/local/lib/python3.6/dist-packages (from tb-nightly<1.14.0a20190604,>=1.14.0a20190603->tensorflow==2.0.0b1) (3.1.1)\n",
      "Installing collected packages: tb-nightly, tf-estimator-nightly, tensorflow\n",
      "  Found existing installation: tensorflow 1.14.0\n",
      "    Uninstalling tensorflow-1.14.0:\n",
      "      Successfully uninstalled tensorflow-1.14.0\n",
      "Successfully installed tb-nightly-1.14.0a20190603 tensorflow-2.0.0b1 tf-estimator-nightly-1.14.0.dev2019060501\n"
     ]
    }
   ],
   "source": [
    "!pip install tensorflow==2.0.0b1"
   ]
  },
  {
   "cell_type": "code",
   "execution_count": 2,
   "metadata": {
    "colab": {
     "base_uri": "https://localhost:8080/",
     "height": 34
    },
    "colab_type": "code",
    "id": "56XEQOGknrAk",
    "outputId": "320ebd39-35bd-45f5-ea82-304de2eac4e2"
   },
   "outputs": [
    {
     "name": "stdout",
     "output_type": "stream",
     "text": [
      "2.0.0-beta1\n"
     ]
    }
   ],
   "source": [
    "import tensorflow as tf\n",
    "print(tf.__version__)"
   ]
  },
  {
   "cell_type": "code",
   "execution_count": 0,
   "metadata": {
    "colab": {},
    "colab_type": "code",
    "id": "sLl52leVp5wU"
   },
   "outputs": [],
   "source": [
    "import numpy as np\n",
    "import matplotlib.pyplot as plt\n",
    "def plot_series(time, series, format=\"-\", start=0, end=None):\n",
    "    plt.plot(time[start:end], series[start:end], format)\n",
    "    plt.xlabel(\"Time\")\n",
    "    plt.ylabel(\"Value\")\n",
    "    plt.grid(True)"
   ]
  },
  {
   "cell_type": "code",
   "execution_count": 4,
   "metadata": {
    "colab": {
     "base_uri": "https://localhost:8080/",
     "height": 224
    },
    "colab_type": "code",
    "id": "tP7oqUdkk0gY",
    "outputId": "4492aeaf-c141-4ef5-8797-3992c940e797"
   },
   "outputs": [
    {
     "name": "stdout",
     "output_type": "stream",
     "text": [
      "--2019-08-26 08:03:02--  https://raw.githubusercontent.com/jbrownlee/Datasets/master/daily-min-temperatures.csv\n",
      "Resolving raw.githubusercontent.com (raw.githubusercontent.com)... 151.101.0.133, 151.101.64.133, 151.101.128.133, ...\n",
      "Connecting to raw.githubusercontent.com (raw.githubusercontent.com)|151.101.0.133|:443... connected.\n",
      "HTTP request sent, awaiting response... 200 OK\n",
      "Length: 67921 (66K) [text/plain]\n",
      "Saving to: ‘/tmp/daily-min-temperatures.csv’\n",
      "\n",
      "\r",
      "          /tmp/dail   0%[                    ]       0  --.-KB/s               \r",
      "/tmp/daily-min-temp 100%[===================>]  66.33K  --.-KB/s    in 0.001s  \n",
      "\n",
      "2019-08-26 08:03:02 (54.8 MB/s) - ‘/tmp/daily-min-temperatures.csv’ saved [67921/67921]\n",
      "\n"
     ]
    }
   ],
   "source": [
    "!wget --no-check-certificate \\\n",
    "    https://raw.githubusercontent.com/jbrownlee/Datasets/master/daily-min-temperatures.csv \\\n",
    "    -O /tmp/daily-min-temperatures.csv"
   ]
  },
  {
   "cell_type": "code",
   "execution_count": 5,
   "metadata": {
    "colab": {
     "base_uri": "https://localhost:8080/",
     "height": 392
    },
    "colab_type": "code",
    "id": "NcG9r1eClbTh",
    "outputId": "8e2ab36e-7a24-4114-9c1e-a2caa83d299e"
   },
   "outputs": [
    {
     "data": {
      "image/png": "[encoded data removed]",
      "text/plain": [
       "<Figure size 720x432 with 1 Axes>"
      ]
     },
     "metadata": {
      "tags": []
     },
     "output_type": "display_data"
    }
   ],
   "source": [
    "import csv\n",
    "time_step = []\n",
    "temps = []\n",
    "\n",
    "with open('/tmp/daily-min-temperatures.csv') as csvfile:\n",
    "# YOUR CODE HERE. READ TEMPERATURES INTO TEMPS\n",
    "# HAVE TIME STEPS BE A SIMPLE ARRAY OF 1, 2, 3, 4 etc\n",
    "  reader = csv.reader(csvfile, delimiter=',')\n",
    "  next(reader)\n",
    "  step=0\n",
    "  \n",
    "  for row in reader:\n",
    "    temps.append(float(row[1]))\n",
    "    time_step.append(step)\n",
    "    step = step + 1\n",
    "\n",
    "\n",
    "series = np.array(temps)\n",
    "time = np.array(time_step)\n",
    "plt.figure(figsize=(10, 6))\n",
    "plot_series(time, series)"
   ]
  },
  {
   "cell_type": "code",
   "execution_count": 0,
   "metadata": {
    "colab": {},
    "colab_type": "code",
    "id": "L92YRw_IpCFG"
   },
   "outputs": [],
   "source": [
    "split_time = 2500\n",
    "time_train = time[:split_time]\n",
    "x_train    = series[:split_time]\n",
    "time_valid = time[split_time:]\n",
    "x_valid    = series[split_time:]\n",
    "\n",
    "window_size = 30\n",
    "batch_size  = 32\n",
    "shuffle_buffer_size = 1000\n",
    "\n"
   ]
  },
  {
   "cell_type": "code",
   "execution_count": 0,
   "metadata": {
    "colab": {},
    "colab_type": "code",
    "id": "lJwUUZscnG38"
   },
   "outputs": [],
   "source": [
    "def windowed_dataset(series, window_size, batch_size, shuffle_buffer):\n",
    "    series = tf.expand_dims(series, axis = -1)\n",
    "    ds = tf.data.Dataset.from_tensor_slices(series)\n",
    "    ds = ds.window(window_size + 1, shift = 1, drop_remainder = True)\n",
    "    ds = ds.flat_map(lambda w: w.batch(window_size + 1))\n",
    "    ds = ds.shuffle(shuffle_buffer)\n",
    "    ds = ds.map(lambda w: (w[:-1], w[1:]))\n",
    "    return ds.batch(batch_size).prefetch(1)"
   ]
  },
  {
   "cell_type": "code",
   "execution_count": 0,
   "metadata": {
    "colab": {},
    "colab_type": "code",
    "id": "4XwGrf-A_wF0"
   },
   "outputs": [],
   "source": [
    "def model_forecast(model, series, window_size):\n",
    "    ds = tf.data.Dataset.from_tensor_slices(series)\n",
    "    ds = ds.window(window_size, shift = 1, drop_remainder = True)\n",
    "    ds = ds.flat_map(lambda w: w.batch(window_size))\n",
    "    ds = ds.batch(32).prefetch(1)\n",
    "    forecast = model.predict(ds)\n",
    "    \n",
    "    return forecast"
   ]
  },
  {
   "cell_type": "code",
   "execution_count": 11,
   "metadata": {
    "colab": {
     "base_uri": "https://localhost:8080/",
     "height": 1000
    },
    "colab_type": "code",
    "id": "AclfYY3Mn6Ph",
    "outputId": "88f171c4-cacd-4b7c-ba7a-bec2a4c5da5d"
   },
   "outputs": [
    {
     "name": "stdout",
     "output_type": "stream",
     "text": [
      "<PrefetchDataset shapes: ((None, None, 1), (None, None, 1)), types: (tf.float64, tf.float64)>\n",
      "(2500,)\n",
      "Epoch 1/100\n",
      "10/10 [==============================] - 7s 705ms/step - loss: 35.4087 - mae: 35.9636\n",
      "Epoch 2/100\n",
      "10/10 [==============================] - 5s 455ms/step - loss: 32.8597 - mae: 33.4371\n",
      "Epoch 3/100\n",
      "10/10 [==============================] - 5s 454ms/step - loss: 29.6144 - mae: 30.1931\n",
      "Epoch 4/100\n",
      "10/10 [==============================] - 5s 456ms/step - loss: 26.4324 - mae: 27.0088\n",
      "Epoch 5/100\n",
      "10/10 [==============================] - 4s 447ms/step - loss: 23.2623 - mae: 23.8400\n",
      "Epoch 6/100\n",
      "10/10 [==============================] - 5s 451ms/step - loss: 19.9675 - mae: 20.5476\n",
      "Epoch 7/100\n",
      "10/10 [==============================] - 4s 446ms/step - loss: 16.5401 - mae: 17.1205\n",
      "Epoch 8/100\n",
      "10/10 [==============================] - 4s 448ms/step - loss: 13.1034 - mae: 13.6758\n",
      "Epoch 9/100\n",
      "10/10 [==============================] - 5s 452ms/step - loss: 10.0349 - mae: 10.5873\n",
      "Epoch 10/100\n",
      "10/10 [==============================] - 5s 450ms/step - loss: 7.9310 - mae: 8.4496\n",
      "Epoch 11/100\n",
      "10/10 [==============================] - 5s 459ms/step - loss: 7.1617 - mae: 7.6519\n",
      "Epoch 12/100\n",
      "10/10 [==============================] - 5s 457ms/step - loss: 7.0748 - mae: 7.5628\n",
      "Epoch 13/100\n",
      "10/10 [==============================] - 5s 459ms/step - loss: 6.9540 - mae: 7.4428\n",
      "Epoch 14/100\n",
      "10/10 [==============================] - 5s 452ms/step - loss: 6.8254 - mae: 7.3112\n",
      "Epoch 15/100\n",
      "10/10 [==============================] - 5s 450ms/step - loss: 6.7224 - mae: 7.2070\n",
      "Epoch 16/100\n",
      "10/10 [==============================] - 5s 453ms/step - loss: 6.6108 - mae: 7.0945\n",
      "Epoch 17/100\n",
      "10/10 [==============================] - 5s 455ms/step - loss: 6.4951 - mae: 6.9781\n",
      "Epoch 18/100\n",
      "10/10 [==============================] - 5s 454ms/step - loss: 6.3756 - mae: 6.8578\n",
      "Epoch 19/100\n",
      "10/10 [==============================] - 4s 446ms/step - loss: 6.2527 - mae: 6.7342\n",
      "Epoch 20/100\n",
      "10/10 [==============================] - 4s 450ms/step - loss: 6.1269 - mae: 6.6079\n",
      "Epoch 21/100\n",
      "10/10 [==============================] - 4s 447ms/step - loss: 5.9989 - mae: 6.4799\n",
      "Epoch 22/100\n",
      "10/10 [==============================] - 5s 456ms/step - loss: 5.8697 - mae: 6.3508\n",
      "Epoch 23/100\n",
      "10/10 [==============================] - 5s 451ms/step - loss: 5.7402 - mae: 6.2209\n",
      "Epoch 24/100\n",
      "10/10 [==============================] - 4s 450ms/step - loss: 5.6107 - mae: 6.0910\n",
      "Epoch 25/100\n",
      "10/10 [==============================] - 5s 455ms/step - loss: 5.4812 - mae: 5.9615\n",
      "Epoch 26/100\n",
      "10/10 [==============================] - 5s 453ms/step - loss: 5.3512 - mae: 5.8315\n",
      "Epoch 27/100\n",
      "10/10 [==============================] - 4s 448ms/step - loss: 5.2197 - mae: 5.6997\n",
      "Epoch 28/100\n",
      "10/10 [==============================] - 4s 450ms/step - loss: 5.0849 - mae: 5.5647\n",
      "Epoch 29/100\n",
      "10/10 [==============================] - 4s 448ms/step - loss: 4.9450 - mae: 5.4247\n",
      "Epoch 30/100\n",
      "10/10 [==============================] - 4s 443ms/step - loss: 4.7984 - mae: 5.2780\n",
      "Epoch 31/100\n",
      "10/10 [==============================] - 4s 442ms/step - loss: 4.6431 - mae: 5.1226\n",
      "Epoch 32/100\n",
      "10/10 [==============================] - 4s 444ms/step - loss: 4.4775 - mae: 4.9567\n",
      "Epoch 33/100\n",
      "10/10 [==============================] - 4s 442ms/step - loss: 4.3001 - mae: 4.7790\n",
      "Epoch 34/100\n",
      "10/10 [==============================] - 4s 445ms/step - loss: 4.1102 - mae: 4.5889\n",
      "Epoch 35/100\n",
      "10/10 [==============================] - 4s 435ms/step - loss: 3.9089 - mae: 4.3871\n",
      "Epoch 36/100\n",
      "10/10 [==============================] - 4s 446ms/step - loss: 3.6988 - mae: 4.1764\n",
      "Epoch 37/100\n",
      "10/10 [==============================] - 4s 444ms/step - loss: 3.4842 - mae: 3.9608\n",
      "Epoch 38/100\n",
      "10/10 [==============================] - 4s 447ms/step - loss: 3.2706 - mae: 3.7458\n",
      "Epoch 39/100\n",
      "10/10 [==============================] - 5s 454ms/step - loss: 3.0650 - mae: 3.5389\n",
      "Epoch 40/100\n",
      "10/10 [==============================] - 5s 450ms/step - loss: 2.8742 - mae: 3.3467\n",
      "Epoch 41/100\n",
      "10/10 [==============================] - 4s 448ms/step - loss: 2.7049 - mae: 3.1757\n",
      "Epoch 42/100\n",
      "10/10 [==============================] - 4s 441ms/step - loss: 2.5654 - mae: 3.0340\n",
      "Epoch 43/100\n",
      "10/10 [==============================] - 4s 444ms/step - loss: 2.4602 - mae: 2.9268\n",
      "Epoch 44/100\n",
      "10/10 [==============================] - 4s 447ms/step - loss: 2.3864 - mae: 2.8515\n",
      "Epoch 45/100\n",
      "10/10 [==============================] - 4s 441ms/step - loss: 2.3339 - mae: 2.7979\n",
      "Epoch 46/100\n",
      "10/10 [==============================] - 4s 437ms/step - loss: 2.2960 - mae: 2.7591\n",
      "Epoch 47/100\n",
      "10/10 [==============================] - 4s 437ms/step - loss: 2.2656 - mae: 2.7284\n",
      "Epoch 48/100\n",
      "10/10 [==============================] - 4s 442ms/step - loss: 2.2392 - mae: 2.7017\n",
      "Epoch 49/100\n",
      "10/10 [==============================] - 4s 442ms/step - loss: 2.2152 - mae: 2.6776\n",
      "Epoch 50/100\n",
      "10/10 [==============================] - 4s 442ms/step - loss: 2.1924 - mae: 2.6539\n",
      "Epoch 51/100\n",
      "10/10 [==============================] - 4s 437ms/step - loss: 2.1674 - mae: 2.6289\n",
      "Epoch 52/100\n",
      "10/10 [==============================] - 4s 433ms/step - loss: 2.1473 - mae: 2.6085\n",
      "Epoch 53/100\n",
      "10/10 [==============================] - 4s 446ms/step - loss: 2.1265 - mae: 2.5875\n",
      "Epoch 54/100\n",
      "10/10 [==============================] - 4s 445ms/step - loss: 2.1125 - mae: 2.5734\n",
      "Epoch 55/100\n",
      "10/10 [==============================] - 4s 446ms/step - loss: 2.1039 - mae: 2.5651\n",
      "Epoch 56/100\n",
      "10/10 [==============================] - 4s 446ms/step - loss: 2.0639 - mae: 2.5244\n",
      "Epoch 57/100\n",
      "10/10 [==============================] - 5s 450ms/step - loss: 2.0549 - mae: 2.5151\n",
      "Epoch 58/100\n",
      "10/10 [==============================] - 4s 446ms/step - loss: 2.4225 - mae: 2.9003\n",
      "Epoch 59/100\n",
      "10/10 [==============================] - 4s 440ms/step - loss: 2.6113 - mae: 3.0828\n",
      "Epoch 60/100\n",
      "10/10 [==============================] - 4s 447ms/step - loss: 2.6463 - mae: 3.1462\n",
      "Epoch 61/100\n",
      "10/10 [==============================] - 4s 442ms/step - loss: 2.1109 - mae: 2.5709\n",
      "Epoch 62/100\n",
      "10/10 [==============================] - 4s 449ms/step - loss: 2.1224 - mae: 2.5889\n",
      "Epoch 63/100\n",
      "10/10 [==============================] - 4s 444ms/step - loss: 2.3317 - mae: 2.8000\n",
      "Epoch 64/100\n",
      "10/10 [==============================] - 4s 442ms/step - loss: 2.4646 - mae: 2.9333\n",
      "Epoch 65/100\n",
      "10/10 [==============================] - 4s 438ms/step - loss: 2.8270 - mae: 3.3072\n",
      "Epoch 66/100\n",
      "10/10 [==============================] - 4s 445ms/step - loss: 3.1417 - mae: 3.6392\n",
      "Epoch 67/100\n",
      "10/10 [==============================] - 4s 438ms/step - loss: 3.4386 - mae: 3.9222\n",
      "Epoch 68/100\n",
      "10/10 [==============================] - 4s 433ms/step - loss: 3.7663 - mae: 4.2635\n",
      "Epoch 69/100\n",
      "10/10 [==============================] - 4s 446ms/step - loss: 3.7500 - mae: 4.2191\n",
      "Epoch 70/100\n",
      "10/10 [==============================] - 4s 444ms/step - loss: 4.0193 - mae: 4.5105\n",
      "Epoch 71/100\n",
      "10/10 [==============================] - 5s 453ms/step - loss: 4.1080 - mae: 4.5707\n",
      "Epoch 72/100\n",
      "10/10 [==============================] - 4s 443ms/step - loss: 3.5754 - mae: 4.1255\n",
      "Epoch 73/100\n",
      "10/10 [==============================] - 5s 450ms/step - loss: 4.3739 - mae: 4.8707\n",
      "Epoch 74/100\n",
      "10/10 [==============================] - 4s 444ms/step - loss: 3.6904 - mae: 4.2108\n",
      "Epoch 75/100\n",
      "10/10 [==============================] - 4s 444ms/step - loss: 3.5160 - mae: 3.9943\n",
      "Epoch 76/100\n",
      "10/10 [==============================] - 4s 450ms/step - loss: 3.5093 - mae: 4.0458\n",
      "Epoch 77/100\n",
      "10/10 [==============================] - 4s 441ms/step - loss: 2.7360 - mae: 3.2347\n",
      "Epoch 78/100\n",
      "10/10 [==============================] - 4s 448ms/step - loss: 2.8133 - mae: 3.1835\n",
      "Epoch 79/100\n",
      "10/10 [==============================] - 4s 440ms/step - loss: 2.8585 - mae: 3.3167\n",
      "Epoch 80/100\n",
      "10/10 [==============================] - 4s 446ms/step - loss: 2.8776 - mae: 3.3514\n",
      "Epoch 81/100\n",
      "10/10 [==============================] - 5s 458ms/step - loss: 3.2433 - mae: 3.7748\n",
      "Epoch 82/100\n",
      "10/10 [==============================] - 5s 453ms/step - loss: 3.7750 - mae: 4.2934\n",
      "Epoch 83/100\n",
      "10/10 [==============================] - 5s 455ms/step - loss: 3.8562 - mae: 4.4203\n",
      "Epoch 84/100\n",
      "10/10 [==============================] - 4s 445ms/step - loss: 9.3612 - mae: 10.0934\n",
      "Epoch 85/100\n",
      "10/10 [==============================] - 4s 444ms/step - loss: 23.9667 - mae: 24.4474\n",
      "Epoch 86/100\n",
      "10/10 [==============================] - 4s 442ms/step - loss: 26.5805 - mae: 26.7384\n",
      "Epoch 87/100\n",
      "10/10 [==============================] - 4s 443ms/step - loss: 26.6677 - mae: 27.9199\n",
      "Epoch 88/100\n",
      "10/10 [==============================] - 4s 446ms/step - loss: 34.2300 - mae: 34.0884\n",
      "Epoch 89/100\n",
      "10/10 [==============================] - 4s 437ms/step - loss: 27.4689 - mae: 27.3941\n",
      "Epoch 90/100\n",
      "10/10 [==============================] - 4s 440ms/step - loss: 42.1858 - mae: 43.2597\n",
      "Epoch 91/100\n",
      "10/10 [==============================] - 4s 435ms/step - loss: 38.5929 - mae: 40.7138\n",
      "Epoch 92/100\n",
      "10/10 [==============================] - 4s 440ms/step - loss: 27.4481 - mae: 28.3900\n",
      "Epoch 93/100\n",
      "10/10 [==============================] - 4s 439ms/step - loss: 32.7120 - mae: 33.0001\n",
      "Epoch 94/100\n",
      "10/10 [==============================] - 4s 439ms/step - loss: 37.0597 - mae: 37.2914\n",
      "Epoch 95/100\n",
      "10/10 [==============================] - 4s 438ms/step - loss: 41.4997 - mae: 42.0292\n",
      "Epoch 96/100\n",
      "10/10 [==============================] - 4s 445ms/step - loss: 46.7143 - mae: 46.8123\n",
      "Epoch 97/100\n",
      "10/10 [==============================] - 4s 447ms/step - loss: 52.4039 - mae: 52.9245\n",
      "Epoch 98/100\n",
      "10/10 [==============================] - 4s 443ms/step - loss: 58.9242 - mae: 58.9629\n",
      "Epoch 99/100\n",
      "10/10 [==============================] - 4s 444ms/step - loss: 66.1123 - mae: 66.5835\n",
      "Epoch 100/100\n",
      "10/10 [==============================] - 4s 439ms/step - loss: 74.3021 - mae: 74.2795\n"
     ]
    }
   ],
   "source": [
    "tf.keras.backend.clear_session()\n",
    "tf.random.set_seed(51)\n",
    "np.random.seed(51)\n",
    "window_size = 64\n",
    "batch_size  = 256\n",
    "train_set   = windowed_dataset(x_train, window_size, batch_size, shuffle_buffer_size)\n",
    "print(train_set)\n",
    "print(x_train.shape)\n",
    "\n",
    "model = tf.keras.models.Sequential([\n",
    "  tf.keras.layers.Conv1D(filters = 32, kernel_size = 5,\n",
    "                         strides = 1, padding = \"causal\",\n",
    "                         activation = \"relu\",\n",
    "                         input_shape = [None, 1]),\n",
    "  tf.keras.layers.LSTM(80, return_sequences = True),\n",
    "  tf.keras.layers.LSTM(80, return_sequences = True),\n",
    "  tf.keras.layers.Dense(30, activation=\"relu\"),\n",
    "  tf.keras.layers.Dense(10, activation=\"relu\"),\n",
    "  tf.keras.layers.Dense(1),\n",
    "  tf.keras.layers.Lambda(lambda x: x * 400)\n",
    "])\n",
    "\n",
    "lr_schedule = tf.keras.callbacks.LearningRateScheduler(\n",
    "    lambda epoch: 1e-8 * 10**(epoch / 20))\n",
    "optimizer = tf.keras.optimizers.SGD(lr = 1e-8, momentum=0.9)\n",
    "model.compile(loss=tf.keras.losses.Huber(),\n",
    "              optimizer=optimizer,\n",
    "              metrics=[\"mae\"])\n",
    "history = model.fit(train_set, epochs=100, callbacks=[lr_schedule])\n",
    "\n",
    "\n"
   ]
  },
  {
   "cell_type": "code",
   "execution_count": 12,
   "metadata": {
    "colab": {
     "base_uri": "https://localhost:8080/",
     "height": 290
    },
    "colab_type": "code",
    "id": "vVcKmg7Q_7rD",
    "outputId": "4a9d8cfe-d021-4b55-a44a-e6c6e754cca9"
   },
   "outputs": [
    {
     "data": {
      "text/plain": [
       "[1e-08, 0.0001, 0, 60]"
      ]
     },
     "execution_count": 12,
     "metadata": {
      "tags": []
     },
     "output_type": "execute_result"
    },
    {
     "data": {
      "image/png": "[encoded data removed]",
      "text/plain": [
       "<Figure size 432x288 with 1 Axes>"
      ]
     },
     "metadata": {
      "tags": []
     },
     "output_type": "display_data"
    }
   ],
   "source": [
    "plt.semilogx(history.history[\"lr\"], history.history[\"loss\"])\n",
    "plt.axis([1e-8, 1e-4, 0, 60])"
   ]
  },
  {
   "cell_type": "code",
   "execution_count": 14,
   "metadata": {
    "colab": {
     "base_uri": "https://localhost:8080/",
     "height": 1000
    },
    "colab_type": "code",
    "id": "QsksvkcXAAgq",
    "outputId": "ea4df996-4e8d-4abb-d8d1-f8342fc0a403"
   },
   "outputs": [
    {
     "name": "stdout",
     "output_type": "stream",
     "text": [
      "Epoch 1/150\n",
      "25/25 [==============================] - 9s 354ms/step - loss: 6.0248 - mae: 6.6067\n",
      "Epoch 2/150\n",
      "25/25 [==============================] - 6s 256ms/step - loss: 2.1537 - mae: 2.6197\n",
      "Epoch 3/150\n",
      "25/25 [==============================] - 6s 254ms/step - loss: 1.9861 - mae: 2.4467\n",
      "Epoch 4/150\n",
      "25/25 [==============================] - 6s 251ms/step - loss: 1.9237 - mae: 2.3825\n",
      "Epoch 5/150\n",
      "25/25 [==============================] - 6s 255ms/step - loss: 1.8795 - mae: 2.3370\n",
      "Epoch 6/150\n",
      "25/25 [==============================] - 6s 253ms/step - loss: 1.8460 - mae: 2.3025\n",
      "Epoch 7/150\n",
      "25/25 [==============================] - 6s 251ms/step - loss: 1.8157 - mae: 2.2715\n",
      "Epoch 8/150\n",
      "25/25 [==============================] - 6s 253ms/step - loss: 1.7906 - mae: 2.2461\n",
      "Epoch 9/150\n",
      "25/25 [==============================] - 7s 261ms/step - loss: 1.7693 - mae: 2.2243\n",
      "Epoch 10/150\n",
      "25/25 [==============================] - 6s 260ms/step - loss: 1.7504 - mae: 2.2049\n",
      "Epoch 11/150\n",
      "25/25 [==============================] - 6s 254ms/step - loss: 1.7340 - mae: 2.1879\n",
      "Epoch 12/150\n",
      "25/25 [==============================] - 6s 257ms/step - loss: 1.7194 - mae: 2.1727\n",
      "Epoch 13/150\n",
      "25/25 [==============================] - 6s 253ms/step - loss: 1.7059 - mae: 2.1586\n",
      "Epoch 14/150\n",
      "25/25 [==============================] - 6s 256ms/step - loss: 1.6934 - mae: 2.1456\n",
      "Epoch 15/150\n",
      "25/25 [==============================] - 6s 254ms/step - loss: 1.6820 - mae: 2.1338\n",
      "Epoch 16/150\n",
      "25/25 [==============================] - 6s 254ms/step - loss: 1.6718 - mae: 2.1231\n",
      "Epoch 17/150\n",
      "25/25 [==============================] - 6s 254ms/step - loss: 1.6624 - mae: 2.1135\n",
      "Epoch 18/150\n",
      "25/25 [==============================] - 6s 252ms/step - loss: 1.6538 - mae: 2.1046\n",
      "Epoch 19/150\n",
      "25/25 [==============================] - 6s 250ms/step - loss: 1.6448 - mae: 2.0953\n",
      "Epoch 20/150\n",
      "25/25 [==============================] - 6s 259ms/step - loss: 1.6353 - mae: 2.0855\n",
      "Epoch 21/150\n",
      "25/25 [==============================] - 6s 256ms/step - loss: 1.6267 - mae: 2.0767\n",
      "Epoch 22/150\n",
      "25/25 [==============================] - 6s 259ms/step - loss: 1.6179 - mae: 2.0678\n",
      "Epoch 23/150\n",
      "25/25 [==============================] - 6s 253ms/step - loss: 1.6101 - mae: 2.0597\n",
      "Epoch 24/150\n",
      "25/25 [==============================] - 6s 258ms/step - loss: 1.6028 - mae: 2.0522\n",
      "Epoch 25/150\n",
      "25/25 [==============================] - 6s 259ms/step - loss: 1.5959 - mae: 2.0450\n",
      "Epoch 26/150\n",
      "25/25 [==============================] - 6s 258ms/step - loss: 1.5897 - mae: 2.0384\n",
      "Epoch 27/150\n",
      "25/25 [==============================] - 6s 251ms/step - loss: 1.5831 - mae: 2.0317\n",
      "Epoch 28/150\n",
      "25/25 [==============================] - 6s 254ms/step - loss: 1.5770 - mae: 2.0254\n",
      "Epoch 29/150\n",
      "25/25 [==============================] - 6s 258ms/step - loss: 1.5706 - mae: 2.0188\n",
      "Epoch 30/150\n",
      "25/25 [==============================] - 6s 254ms/step - loss: 1.5643 - mae: 2.0120\n",
      "Epoch 31/150\n",
      "25/25 [==============================] - 6s 255ms/step - loss: 1.5593 - mae: 2.0068\n",
      "Epoch 32/150\n",
      "25/25 [==============================] - 6s 254ms/step - loss: 1.5546 - mae: 2.0019\n",
      "Epoch 33/150\n",
      "25/25 [==============================] - 6s 255ms/step - loss: 1.5498 - mae: 1.9969\n",
      "Epoch 34/150\n",
      "25/25 [==============================] - 6s 254ms/step - loss: 1.5455 - mae: 1.9923\n",
      "Epoch 35/150\n",
      "25/25 [==============================] - 6s 253ms/step - loss: 1.5413 - mae: 1.9879\n",
      "Epoch 36/150\n",
      "25/25 [==============================] - 6s 254ms/step - loss: 1.5376 - mae: 1.9839\n",
      "Epoch 37/150\n",
      "25/25 [==============================] - 6s 255ms/step - loss: 1.5344 - mae: 1.9806\n",
      "Epoch 38/150\n",
      "25/25 [==============================] - 6s 253ms/step - loss: 1.5315 - mae: 1.9775\n",
      "Epoch 39/150\n",
      "25/25 [==============================] - 6s 248ms/step - loss: 1.5286 - mae: 1.9745\n",
      "Epoch 40/150\n",
      "25/25 [==============================] - 6s 255ms/step - loss: 1.5260 - mae: 1.9718\n",
      "Epoch 41/150\n",
      "25/25 [==============================] - 6s 251ms/step - loss: 1.5235 - mae: 1.9692\n",
      "Epoch 42/150\n",
      "25/25 [==============================] - 6s 253ms/step - loss: 1.5211 - mae: 1.9667\n",
      "Epoch 43/150\n",
      "25/25 [==============================] - 6s 256ms/step - loss: 1.5188 - mae: 1.9643\n",
      "Epoch 44/150\n",
      "25/25 [==============================] - 6s 259ms/step - loss: 1.5166 - mae: 1.9619\n",
      "Epoch 45/150\n",
      "25/25 [==============================] - 6s 255ms/step - loss: 1.5145 - mae: 1.9596\n",
      "Epoch 46/150\n",
      "25/25 [==============================] - 6s 255ms/step - loss: 1.5124 - mae: 1.9575\n",
      "Epoch 47/150\n",
      "25/25 [==============================] - 6s 256ms/step - loss: 1.5105 - mae: 1.9553\n",
      "Epoch 48/150\n",
      "25/25 [==============================] - 6s 254ms/step - loss: 1.5086 - mae: 1.9534\n",
      "Epoch 49/150\n",
      "25/25 [==============================] - 6s 254ms/step - loss: 1.5069 - mae: 1.9515\n",
      "Epoch 50/150\n",
      "25/25 [==============================] - 6s 257ms/step - loss: 1.5053 - mae: 1.9498\n",
      "Epoch 51/150\n",
      "25/25 [==============================] - 6s 258ms/step - loss: 1.5039 - mae: 1.9483\n",
      "Epoch 52/150\n",
      "25/25 [==============================] - 6s 256ms/step - loss: 1.5025 - mae: 1.9468\n",
      "Epoch 53/150\n",
      "25/25 [==============================] - 6s 256ms/step - loss: 1.5012 - mae: 1.9455\n",
      "Epoch 54/150\n",
      "25/25 [==============================] - 6s 257ms/step - loss: 1.5001 - mae: 1.9442\n",
      "Epoch 55/150\n",
      "25/25 [==============================] - 6s 255ms/step - loss: 1.4990 - mae: 1.9431\n",
      "Epoch 56/150\n",
      "25/25 [==============================] - 6s 253ms/step - loss: 1.4980 - mae: 1.9420\n",
      "Epoch 57/150\n",
      "25/25 [==============================] - 6s 257ms/step - loss: 1.4969 - mae: 1.9409\n",
      "Epoch 58/150\n",
      "25/25 [==============================] - 6s 258ms/step - loss: 1.4961 - mae: 1.9400\n",
      "Epoch 59/150\n",
      "25/25 [==============================] - 6s 255ms/step - loss: 1.4952 - mae: 1.9391\n",
      "Epoch 60/150\n",
      "25/25 [==============================] - 6s 254ms/step - loss: 1.4943 - mae: 1.9382\n",
      "Epoch 61/150\n",
      "25/25 [==============================] - 6s 254ms/step - loss: 1.4935 - mae: 1.9373\n",
      "Epoch 62/150\n",
      "25/25 [==============================] - 6s 256ms/step - loss: 1.4928 - mae: 1.9366\n",
      "Epoch 63/150\n",
      "25/25 [==============================] - 6s 256ms/step - loss: 1.4921 - mae: 1.9358\n",
      "Epoch 64/150\n",
      "25/25 [==============================] - 6s 254ms/step - loss: 1.4914 - mae: 1.9351\n",
      "Epoch 65/150\n",
      "25/25 [==============================] - 6s 255ms/step - loss: 1.4907 - mae: 1.9344\n",
      "Epoch 66/150\n",
      "25/25 [==============================] - 6s 254ms/step - loss: 1.4901 - mae: 1.9337\n",
      "Epoch 67/150\n",
      "25/25 [==============================] - 6s 254ms/step - loss: 1.4894 - mae: 1.9331\n",
      "Epoch 68/150\n",
      "25/25 [==============================] - 6s 251ms/step - loss: 1.4889 - mae: 1.9325\n",
      "Epoch 69/150\n",
      "25/25 [==============================] - 6s 254ms/step - loss: 1.4883 - mae: 1.9319\n",
      "Epoch 70/150\n",
      "25/25 [==============================] - 6s 255ms/step - loss: 1.4877 - mae: 1.9313\n",
      "Epoch 71/150\n",
      "25/25 [==============================] - 6s 254ms/step - loss: 1.4872 - mae: 1.9308\n",
      "Epoch 72/150\n",
      "25/25 [==============================] - 6s 246ms/step - loss: 1.4866 - mae: 1.9303\n",
      "Epoch 73/150\n",
      "25/25 [==============================] - 6s 246ms/step - loss: 1.4861 - mae: 1.9297\n",
      "Epoch 74/150\n",
      "25/25 [==============================] - 6s 250ms/step - loss: 1.4856 - mae: 1.9292\n",
      "Epoch 75/150\n",
      "25/25 [==============================] - 6s 258ms/step - loss: 1.4851 - mae: 1.9287\n",
      "Epoch 76/150\n",
      "25/25 [==============================] - 6s 256ms/step - loss: 1.4846 - mae: 1.9282\n",
      "Epoch 77/150\n",
      "25/25 [==============================] - 6s 258ms/step - loss: 1.4842 - mae: 1.9277\n",
      "Epoch 78/150\n",
      "25/25 [==============================] - 6s 258ms/step - loss: 1.4837 - mae: 1.9273\n",
      "Epoch 79/150\n",
      "25/25 [==============================] - 6s 243ms/step - loss: 1.4833 - mae: 1.9268\n",
      "Epoch 80/150\n",
      "25/25 [==============================] - 6s 240ms/step - loss: 1.4829 - mae: 1.9265\n",
      "Epoch 81/150\n",
      "25/25 [==============================] - 6s 247ms/step - loss: 1.4824 - mae: 1.9260\n",
      "Epoch 82/150\n",
      "25/25 [==============================] - 6s 258ms/step - loss: 1.4820 - mae: 1.9256\n",
      "Epoch 83/150\n",
      "25/25 [==============================] - 6s 250ms/step - loss: 1.4815 - mae: 1.9252\n",
      "Epoch 84/150\n",
      "25/25 [==============================] - 6s 246ms/step - loss: 1.4811 - mae: 1.9248\n",
      "Epoch 85/150\n",
      "25/25 [==============================] - 6s 256ms/step - loss: 1.4807 - mae: 1.9244\n",
      "Epoch 86/150\n",
      "25/25 [==============================] - 6s 257ms/step - loss: 1.4804 - mae: 1.9241\n",
      "Epoch 87/150\n",
      "25/25 [==============================] - 6s 255ms/step - loss: 1.4800 - mae: 1.9237\n",
      "Epoch 88/150\n",
      "25/25 [==============================] - 6s 260ms/step - loss: 1.4797 - mae: 1.9234\n",
      "Epoch 89/150\n",
      "25/25 [==============================] - 6s 256ms/step - loss: 1.4794 - mae: 1.9231\n",
      "Epoch 90/150\n",
      "25/25 [==============================] - 6s 260ms/step - loss: 1.4791 - mae: 1.9228\n",
      "Epoch 91/150\n",
      "25/25 [==============================] - 6s 252ms/step - loss: 1.4788 - mae: 1.9225\n",
      "Epoch 92/150\n",
      "25/25 [==============================] - 6s 257ms/step - loss: 1.4785 - mae: 1.9223\n",
      "Epoch 93/150\n",
      "25/25 [==============================] - 6s 257ms/step - loss: 1.4782 - mae: 1.9220\n",
      "Epoch 94/150\n",
      "25/25 [==============================] - 6s 250ms/step - loss: 1.4779 - mae: 1.9217\n",
      "Epoch 95/150\n",
      "25/25 [==============================] - 6s 250ms/step - loss: 1.4776 - mae: 1.9214\n",
      "Epoch 96/150\n",
      "25/25 [==============================] - 6s 255ms/step - loss: 1.4774 - mae: 1.9211\n",
      "Epoch 97/150\n",
      "25/25 [==============================] - 6s 251ms/step - loss: 1.4771 - mae: 1.9208\n",
      "Epoch 98/150\n",
      "25/25 [==============================] - 6s 252ms/step - loss: 1.4768 - mae: 1.9206\n",
      "Epoch 99/150\n",
      "25/25 [==============================] - 6s 252ms/step - loss: 1.4765 - mae: 1.9202\n",
      "Epoch 100/150\n",
      "25/25 [==============================] - 6s 251ms/step - loss: 1.4762 - mae: 1.9200\n",
      "Epoch 101/150\n",
      "25/25 [==============================] - 6s 257ms/step - loss: 1.4760 - mae: 1.9197\n",
      "Epoch 102/150\n",
      "25/25 [==============================] - 6s 255ms/step - loss: 1.4757 - mae: 1.9195\n",
      "Epoch 103/150\n",
      "25/25 [==============================] - 6s 255ms/step - loss: 1.4754 - mae: 1.9191\n",
      "Epoch 104/150\n",
      "25/25 [==============================] - 6s 257ms/step - loss: 1.4752 - mae: 1.9189\n",
      "Epoch 105/150\n",
      "25/25 [==============================] - 6s 251ms/step - loss: 1.4750 - mae: 1.9187\n",
      "Epoch 106/150\n",
      "25/25 [==============================] - 6s 255ms/step - loss: 1.4747 - mae: 1.9184\n",
      "Epoch 107/150\n",
      "25/25 [==============================] - 6s 253ms/step - loss: 1.4745 - mae: 1.9182\n",
      "Epoch 108/150\n",
      "25/25 [==============================] - 6s 253ms/step - loss: 1.4742 - mae: 1.9179\n",
      "Epoch 109/150\n",
      "25/25 [==============================] - 6s 248ms/step - loss: 1.4740 - mae: 1.9177\n",
      "Epoch 110/150\n",
      "25/25 [==============================] - 6s 252ms/step - loss: 1.4737 - mae: 1.9174\n",
      "Epoch 111/150\n",
      "25/25 [==============================] - 6s 254ms/step - loss: 1.4735 - mae: 1.9172\n",
      "Epoch 112/150\n",
      "25/25 [==============================] - 6s 255ms/step - loss: 1.4733 - mae: 1.9170\n",
      "Epoch 113/150\n",
      "25/25 [==============================] - 6s 255ms/step - loss: 1.4730 - mae: 1.9167\n",
      "Epoch 114/150\n",
      "25/25 [==============================] - 6s 254ms/step - loss: 1.4728 - mae: 1.9165\n",
      "Epoch 115/150\n",
      "25/25 [==============================] - 7s 294ms/step - loss: 1.4726 - mae: 1.9162\n",
      "Epoch 116/150\n",
      "25/25 [==============================] - 7s 262ms/step - loss: 1.4724 - mae: 1.9161\n",
      "Epoch 117/150\n",
      "25/25 [==============================] - 6s 259ms/step - loss: 1.4721 - mae: 1.9158\n",
      "Epoch 118/150\n",
      "25/25 [==============================] - 6s 259ms/step - loss: 1.4720 - mae: 1.9156\n",
      "Epoch 119/150\n",
      "25/25 [==============================] - 7s 262ms/step - loss: 1.4718 - mae: 1.9154\n",
      "Epoch 120/150\n",
      "25/25 [==============================] - 7s 263ms/step - loss: 1.4716 - mae: 1.9152\n",
      "Epoch 121/150\n",
      "25/25 [==============================] - 6s 259ms/step - loss: 1.4714 - mae: 1.9150\n",
      "Epoch 122/150\n",
      "25/25 [==============================] - 7s 263ms/step - loss: 1.4711 - mae: 1.9147\n",
      "Epoch 123/150\n",
      "25/25 [==============================] - 7s 260ms/step - loss: 1.4709 - mae: 1.9145\n",
      "Epoch 124/150\n",
      "25/25 [==============================] - 7s 262ms/step - loss: 1.4707 - mae: 1.9143\n",
      "Epoch 125/150\n",
      "25/25 [==============================] - 6s 258ms/step - loss: 1.4705 - mae: 1.9141\n",
      "Epoch 126/150\n",
      "25/25 [==============================] - 6s 253ms/step - loss: 1.4703 - mae: 1.9139\n",
      "Epoch 127/150\n",
      "25/25 [==============================] - 6s 256ms/step - loss: 1.4701 - mae: 1.9137\n",
      "Epoch 128/150\n",
      "25/25 [==============================] - 6s 259ms/step - loss: 1.4699 - mae: 1.9134\n",
      "Epoch 129/150\n",
      "25/25 [==============================] - 6s 259ms/step - loss: 1.4697 - mae: 1.9133\n",
      "Epoch 130/150\n",
      "25/25 [==============================] - 6s 256ms/step - loss: 1.4694 - mae: 1.9130\n",
      "Epoch 131/150\n",
      "25/25 [==============================] - 7s 261ms/step - loss: 1.4692 - mae: 1.9128\n",
      "Epoch 132/150\n",
      "25/25 [==============================] - 7s 261ms/step - loss: 1.4690 - mae: 1.9126\n",
      "Epoch 133/150\n",
      "25/25 [==============================] - 6s 254ms/step - loss: 1.4688 - mae: 1.9124\n",
      "Epoch 134/150\n",
      "25/25 [==============================] - 7s 263ms/step - loss: 1.4686 - mae: 1.9122\n",
      "Epoch 135/150\n",
      "25/25 [==============================] - 6s 259ms/step - loss: 1.4683 - mae: 1.9120\n",
      "Epoch 136/150\n",
      "25/25 [==============================] - 7s 261ms/step - loss: 1.4682 - mae: 1.9118\n",
      "Epoch 137/150\n",
      "25/25 [==============================] - 6s 255ms/step - loss: 1.4680 - mae: 1.9116\n",
      "Epoch 138/150\n",
      "25/25 [==============================] - 6s 259ms/step - loss: 1.4678 - mae: 1.9114\n",
      "Epoch 139/150\n",
      "25/25 [==============================] - 7s 261ms/step - loss: 1.4676 - mae: 1.9113\n",
      "Epoch 140/150\n",
      "25/25 [==============================] - 7s 261ms/step - loss: 1.4674 - mae: 1.9111\n",
      "Epoch 141/150\n",
      "25/25 [==============================] - 7s 263ms/step - loss: 1.4673 - mae: 1.9109\n",
      "Epoch 142/150\n",
      "25/25 [==============================] - 6s 259ms/step - loss: 1.4671 - mae: 1.9107\n",
      "Epoch 143/150\n",
      "25/25 [==============================] - 6s 258ms/step - loss: 1.4669 - mae: 1.9106\n",
      "Epoch 144/150\n",
      "25/25 [==============================] - 6s 255ms/step - loss: 1.4668 - mae: 1.9104\n",
      "Epoch 145/150\n",
      "25/25 [==============================] - 6s 251ms/step - loss: 1.4666 - mae: 1.9102\n",
      "Epoch 146/150\n",
      "25/25 [==============================] - 6s 251ms/step - loss: 1.4665 - mae: 1.9101\n",
      "Epoch 147/150\n",
      "25/25 [==============================] - 6s 255ms/step - loss: 1.4663 - mae: 1.9099\n",
      "Epoch 148/150\n",
      "25/25 [==============================] - 6s 252ms/step - loss: 1.4662 - mae: 1.9098\n",
      "Epoch 149/150\n",
      "25/25 [==============================] - 6s 246ms/step - loss: 1.4660 - mae: 1.9096\n",
      "Epoch 150/150\n",
      "25/25 [==============================] - 6s 255ms/step - loss: 1.4659 - mae: 1.9095\n"
     ]
    }
   ],
   "source": [
    "tf.keras.backend.clear_session()\n",
    "tf.random.set_seed(51)\n",
    "np.random.seed(51)\n",
    "train_set = windowed_dataset(x_train, window_size=70, batch_size=100, shuffle_buffer=shuffle_buffer_size)\n",
    "model = tf.keras.models.Sequential([\n",
    "  tf.keras.layers.Conv1D(filters=70, kernel_size=5,\n",
    "                         strides=1, padding=\"causal\",\n",
    "                         activation=\"relu\",\n",
    "                         input_shape=[None, 1]),\n",
    "  tf.keras.layers.LSTM(70, return_sequences=True),\n",
    "  tf.keras.layers.LSTM(70, return_sequences=True),\n",
    "  tf.keras.layers.Dense(30, activation=\"relu\"),\n",
    "  tf.keras.layers.Dense(10, activation=\"relu\"),\n",
    "  tf.keras.layers.Dense(1),\n",
    "  tf.keras.layers.Lambda(lambda x: x * 400)\n",
    "])\n",
    "\n",
    "\n",
    "optimizer = tf.keras.optimizers.SGD(lr= 1e-5, momentum=0.9)\n",
    "model.compile(loss=tf.keras.losses.Huber(),\n",
    "              optimizer=optimizer,\n",
    "              metrics=[\"mae\"])\n",
    "history = model.fit(train_set,epochs= 150)\n",
    "                                    \n",
    "# EXPECTED OUTPUT SHOULD SEE AN MAE OF <2 WITHIN ABOUT 30 EPOCHS"
   ]
  },
  {
   "cell_type": "code",
   "execution_count": 0,
   "metadata": {
    "colab": {},
    "colab_type": "code",
    "id": "GaC6NNMRp0lb"
   },
   "outputs": [],
   "source": [
    "rnn_forecast = model_forecast(model, series[..., np.newaxis], window_size)\n",
    "rnn_forecast = rnn_forecast[split_time - window_size:-1, -1, 0]"
   ]
  },
  {
   "cell_type": "code",
   "execution_count": 16,
   "metadata": {
    "colab": {
     "base_uri": "https://localhost:8080/",
     "height": 392
    },
    "colab_type": "code",
    "id": "izy6wl2S9d-2",
    "outputId": "4c275264-7f83-483e-ebe3-aa1f64d93722"
   },
   "outputs": [
    {
     "data": {
      "image/png": "[encoded data removed]",
      "text/plain": [
       "<Figure size 720x432 with 1 Axes>"
      ]
     },
     "metadata": {
      "tags": []
     },
     "output_type": "display_data"
    }
   ],
   "source": [
    "plt.figure(figsize=(10, 6))\n",
    "plot_series(time_valid, x_valid)\n",
    "plot_series(time_valid, rnn_forecast)\n",
    "\n",
    "# EXPECTED OUTPUT. PLOT SHOULD SHOW PROJECTIONS FOLLOWING ORIGINAL DATA CLOSELY"
   ]
  },
  {
   "cell_type": "code",
   "execution_count": 17,
   "metadata": {
    "colab": {
     "base_uri": "https://localhost:8080/",
     "height": 34
    },
    "colab_type": "code",
    "id": "13XrorC5wQoE",
    "outputId": "3797fb7b-3313-45fd-877e-e47acf30df9b"
   },
   "outputs": [
    {
     "data": {
      "text/plain": [
       "1.7889578"
      ]
     },
     "execution_count": 17,
     "metadata": {
      "tags": []
     },
     "output_type": "execute_result"
    }
   ],
   "source": [
    "tf.keras.metrics.mean_absolute_error(x_valid, rnn_forecast).numpy()\n",
    "\n",
    "# EXPECTED OUTPUT MAE < 2 -- I GOT 1.789626"
   ]
  },
  {
   "cell_type": "code",
   "execution_count": 18,
   "metadata": {
    "colab": {
     "base_uri": "https://localhost:8080/",
     "height": 34
    },
    "colab_type": "code",
    "id": "AOVzQXxCwkzP",
    "outputId": "121aa359-f87e-4408-fd35-1aacd8f4612e"
   },
   "outputs": [
    {
     "name": "stdout",
     "output_type": "stream",
     "text": [
      "[11.807181  11.361478  12.430857  ... 13.4560375 13.48637   14.721219 ]\n"
     ]
    }
   ],
   "source": [
    "print(rnn_forecast)\n",
    "# EXPECTED OUTPUT -- ARRAY OF VALUES IN THE LOW TEENS"
   ]
  }
 ],
 "metadata": {
  "accelerator": "GPU",
  "colab": {
   "collapsed_sections": [],
   "name": "STPw4 - Sunspots - Question.ipynb",
   "provenance": [],
   "version": "0.3.2"
  },
  "kernelspec": {
   "display_name": "Python 3",
   "language": "python",
   "name": "python3"
  },
  "language_info": {
   "codemirror_mode": {
    "name": "ipython",
    "version": 3
   },
   "file_extension": ".py",
   "mimetype": "text/x-python",
   "name": "python",
   "nbconvert_exporter": "python",
   "pygments_lexer": "ipython3",
   "version": "3.6.5"
  }
 },
 "nbformat": 4,
 "nbformat_minor": 1
}
